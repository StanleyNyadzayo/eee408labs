{
  "nbformat": 4,
  "nbformat_minor": 0,
  "metadata": {
    "colab": {
      "provenance": [],
      "authorship_tag": "ABX9TyN+dsWUtnWZgUR85+nPxelI",
      "include_colab_link": true
    },
    "kernelspec": {
      "name": "python3",
      "display_name": "Python 3"
    },
    "language_info": {
      "name": "python"
    }
  },
  "cells": [
    {
      "cell_type": "markdown",
      "metadata": {
        "id": "view-in-github",
        "colab_type": "text"
      },
      "source": [
        "<a href=\"https://colab.research.google.com/github/StanleyNyadzayo/eee408labs/blob/main/Feature_Selection_with_sklearn.ipynb\" target=\"_parent\"><img src=\"https://colab.research.google.com/assets/colab-badge.svg\" alt=\"Open In Colab\"/></a>"
      ]
    },
    {
      "cell_type": "markdown",
      "source": [
        "Feature Selection with Scikit-Learn"
      ],
      "metadata": {
        "id": "lou5MC8y2KuN"
      }
    },
    {
      "cell_type": "code",
      "execution_count": 3,
      "metadata": {
        "id": "kdqe__jK2JJN"
      },
      "outputs": [],
      "source": [
        "import pandas as pd\n",
        "from sklearn.datasets import load_iris\n",
        "from sklearn.model_selection import train_test_split\n",
        "\n",
        "# Load datasest\n",
        "data = load_iris()\n",
        "X = pd.DataFrame(data.data, columns=data.feature_names)\n",
        "y = data.target\n",
        "\n",
        "# Split data into training and test sets\n",
        "X_train, X_test, y_train, y_test = train_test_split(X, y, test_size=0.3, random_state=42)\n"
      ]
    },
    {
      "cell_type": "markdown",
      "source": [
        "Method 1: Univariate Selection in Python with Scikit-Learn"
      ],
      "metadata": {
        "id": "5WqiXZK93hKk"
      }
    },
    {
      "cell_type": "code",
      "source": [
        "from sklearn.feature_selection import SelectKBest, chi2\n",
        "# Apply SelectKBest with chi2\n",
        "select_k_best = SelectKBest(score_func=chi2, k=2)\n",
        "X_train_k_best = select_k_best.fit_transform(X_train, y_train)\n",
        "\n",
        "print(\"Selected features:\", X_train.columns[select_k_best.get_support()])"
      ],
      "metadata": {
        "colab": {
          "base_uri": "https://localhost:8080/"
        },
        "id": "WgzNamTS29-Y",
        "outputId": "ba739c87-987e-4a59-cf46-f0672651b56d"
      },
      "execution_count": 4,
      "outputs": [
        {
          "output_type": "stream",
          "name": "stdout",
          "text": [
            "Selected features: Index(['petal length (cm)', 'petal width (cm)'], dtype='object')\n"
          ]
        }
      ]
    },
    {
      "cell_type": "markdown",
      "source": [
        "Method 2: Recursive Feature Elimination"
      ],
      "metadata": {
        "id": "IQ9X8Tdn4R0M"
      }
    },
    {
      "cell_type": "code",
      "source": [
        "from sklearn.feature_selection import RFE\n",
        "from sklearn.linear_model import LogisticRegression\n",
        "\n",
        "# Apply RFE with logistic regression\n",
        "model = LogisticRegression()\n",
        "rfe = RFE(model, n_features_to_select=2)\n",
        "X_train_rfe = rfe.fit_transform(X_train, y_train)\n",
        "print(\"Selected features:\", X_train.columns[rfe.support_])"
      ],
      "metadata": {
        "colab": {
          "base_uri": "https://localhost:8080/"
        },
        "id": "QdwB3nOX4NAY",
        "outputId": "b662571c-80ec-4942-c1d7-e8c6d875e8e2"
      },
      "execution_count": 9,
      "outputs": [
        {
          "output_type": "stream",
          "name": "stdout",
          "text": [
            "Selected features: Index(['petal length (cm)', 'petal width (cm)'], dtype='object')\n"
          ]
        }
      ]
    },
    {
      "cell_type": "markdown",
      "source": [
        "Mtheod 3: Tree-Based Feature Importance"
      ],
      "metadata": {
        "id": "Sm-tHZem53UJ"
      }
    },
    {
      "cell_type": "code",
      "source": [
        "from sklearn.ensemble import RandomForestClassifier\n",
        "# Train random forest and get feature importances\n",
        "model = RandomForestClassifier()\n",
        "model.fit(X_train, y_train)\n",
        "importances = model.feature_importances_\n",
        "# Display feature importances\n",
        "feature_importances = pd.Series(importances, index=X_train.columns)\n",
        "print(feature_importances.sort_values(ascending=False))"
      ],
      "metadata": {
        "colab": {
          "base_uri": "https://localhost:8080/"
        },
        "id": "SOujeb6e4-Xg",
        "outputId": "ece3f6c0-f597-425b-e419-dd58d2fb179e"
      },
      "execution_count": 11,
      "outputs": [
        {
          "output_type": "stream",
          "name": "stdout",
          "text": [
            "petal length (cm)    0.464595\n",
            "petal width (cm)     0.416299\n",
            "sepal length (cm)    0.082600\n",
            "sepal width (cm)     0.036506\n",
            "dtype: float64\n"
          ]
        }
      ]
    },
    {
      "cell_type": "code",
      "source": [],
      "metadata": {
        "id": "sPB7VOjB6ksW"
      },
      "execution_count": null,
      "outputs": []
    }
  ]
}